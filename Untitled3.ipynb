{
 "cells": [
  {
   "cell_type": "code",
   "execution_count": 3,
   "id": "5a6c2d93",
   "metadata": {},
   "outputs": [],
   "source": [
    "import cv2 as cv\n",
    "import matplotlib.pyplot as plt\n",
    "from pytesseract import pytesseract as tes\n",
    "\n",
    "import cv2 as cv\n",
    "import numpy as np\n",
    "\n",
    "def txt_loc(file):\n",
    "    tes.tesseract_cmd=\"c:\\\\Program Files\\\\Tesseract-OCR\\\\tesseract.exe\"\n",
    "\n",
    "    img=cv.imread(file,0)\n",
    "    height,width=img.shape\n",
    "    data=tes.image_to_data(img)\n",
    "    l1=[]\n",
    "    for x,b in enumerate(data.splitlines()):\n",
    "        if x!=0:\n",
    "            b=b.split('\\t')\n",
    "            if len(b)==12  and( b[11] not in ['',' ','  ','}}','+','Lt','|]','t'])  and (b[11].isalnum()==True or b[11].isascii()==True) :\n",
    "                x,y,w,h=int(b[6]),int(b[7]),int(b[8]),int(b[9])\n",
    "                l1.append([b[11],{'top_left':(x,y),'bottom_right':((x+w),(y+h)),'bottom_left':(x,(y+h))}])\n",
    "                cv.rectangle(img,(x,y),(x+w,y+h),(0,255,0),1)\n",
    "                \n",
    "    return l1\n",
    "\n",
    "\n",
    "def temp_loc(image,template):\n",
    "    img=cv.imread(image,0)\n",
    "    temp=cv.imread(template,0) # matching\n",
    "\n",
    "    res=cv.matchTemplate(img,temp,cv.TM_CCOEFF_NORMED)\n",
    "    loc=np.where(res>=0.877)\n",
    "\n",
    "    if loc[1].size!=0:\n",
    "        width,height=temp.shape[::-1]\n",
    "\n",
    "        min_val, max_val, min_loc, max_loc = cv.minMaxLoc(res)\n",
    "        top_left = max_loc\n",
    "        bottom_right = (top_left[0] + width, top_left[1] + height)\n",
    "        cv.rectangle(img,top_left, bottom_right,(0,255,0),5)\n",
    "        cv.imshow('Match is found',img)\n",
    "        cv.waitKey(0)\n",
    "        cv.destroyAllWindows()\n",
    "        co_ordinates={'top_left':max_loc,\n",
    "              'top_right':(max_loc[0]+width,max_loc[1]),\n",
    "              'bottom_left':(max_loc[0],max_loc[1]+height), \n",
    "              'bottom_right':(max_loc[0]+width,max_loc[1]+height)}\n",
    "        return co_ordinates\n",
    "    else:\n",
    "        cv.imshow('no match is found in the image',img)\n",
    "        cv.waitKey(0)\n",
    "        cv.destroyAllWindows()"
   ]
  },
  {
   "cell_type": "code",
   "execution_count": 4,
   "id": "a3a3e8be",
   "metadata": {},
   "outputs": [],
   "source": [
    "a=temp_loc('sample.png','small.png')\n",
    "b=txt_loc('sp1.png')"
   ]
  },
  {
   "cell_type": "code",
   "execution_count": 5,
   "id": "a4d581ce",
   "metadata": {},
   "outputs": [
    {
     "data": {
      "text/plain": [
       "{'top_left': (300, 25),\n",
       " 'top_right': (478, 25),\n",
       " 'bottom_left': (300, 191),\n",
       " 'bottom_right': (478, 191)}"
      ]
     },
     "execution_count": 5,
     "metadata": {},
     "output_type": "execute_result"
    }
   ],
   "source": [
    "a"
   ]
  },
  {
   "cell_type": "code",
   "execution_count": 6,
   "id": "e10ed594",
   "metadata": {},
   "outputs": [
    {
     "data": {
      "text/plain": [
       "[['Medtronic',\n",
       "  {'top_left': (21, 22), 'bottom_right': (139, 41), 'bottom_left': (21, 41)}],\n",
       " ['079',\n",
       "  {'top_left': (96, 61), 'bottom_right': (146, 84), 'bottom_left': (96, 84)}],\n",
       " ['Radial',\n",
       "  {'top_left': (22, 102),\n",
       "   'bottom_right': (72, 119),\n",
       "   'bottom_left': (22, 119)}],\n",
       " ['Access',\n",
       "  {'top_left': (78, 102),\n",
       "   'bottom_right': (130, 119),\n",
       "   'bottom_left': (78, 119)}],\n",
       " ['Guide',\n",
       "  {'top_left': (136, 102),\n",
       "   'bottom_right': (184, 119),\n",
       "   'bottom_left': (136, 119)}],\n",
       " ['Catheter',\n",
       "  {'top_left': (189, 102),\n",
       "   'bottom_right': (261, 119),\n",
       "   'bottom_left': (189, 119)}],\n",
       " ['cn',\n",
       "  {'top_left': (204, 338),\n",
       "   'bottom_right': (236, 370),\n",
       "   'bottom_left': (204, 370)}],\n",
       " ['OD',\n",
       "  {'top_left': (51, 494),\n",
       "   'bottom_right': (65, 508),\n",
       "   'bottom_left': (51, 508)}],\n",
       " ['7F',\n",
       "  {'top_left': (72, 494),\n",
       "   'bottom_right': (86, 508),\n",
       "   'bottom_left': (72, 508)}],\n",
       " ['0.093',\n",
       "  {'top_left': (43, 516),\n",
       "   'bottom_right': (93, 531),\n",
       "   'bottom_left': (43, 531)}],\n",
       " ['in.',\n",
       "  {'top_left': (83, 512),\n",
       "   'bottom_right': (105, 540),\n",
       "   'bottom_left': (83, 540)}],\n",
       " ['237mm',\n",
       "  {'top_left': (41, 539),\n",
       "   'bottom_right': (96, 553),\n",
       "   'bottom_left': (41, 553)}],\n",
       " ['95cm',\n",
       "  {'top_left': (174, 596),\n",
       "   'bottom_right': (211, 610),\n",
       "   'bottom_left': (174, 610)}],\n",
       " ['1D',\n",
       "  {'top_left': (53, 767),\n",
       "   'bottom_right': (64, 781),\n",
       "   'bottom_left': (53, 781)}],\n",
       " ['0.079',\n",
       "  {'top_left': (68, 768),\n",
       "   'bottom_right': (103, 781),\n",
       "   'bottom_left': (68, 781)}],\n",
       " ['in',\n",
       "  {'top_left': (108, 768),\n",
       "   'bottom_right': (118, 781),\n",
       "   'bottom_left': (108, 781)}],\n",
       " ['2.00',\n",
       "  {'top_left': (58, 788),\n",
       "   'bottom_right': (84, 814),\n",
       "   'bottom_left': (58, 814)}],\n",
       " ['mm',\n",
       "  {'top_left': (92, 796),\n",
       "   'bottom_right': (113, 805),\n",
       "   'bottom_left': (92, 805)}]]"
      ]
     },
     "execution_count": 6,
     "metadata": {},
     "output_type": "execute_result"
    }
   ],
   "source": [
    "b"
   ]
  },
  {
   "cell_type": "code",
   "execution_count": null,
   "id": "cd663e19",
   "metadata": {},
   "outputs": [],
   "source": []
  }
 ],
 "metadata": {
  "kernelspec": {
   "display_name": "Python 3 (ipykernel)",
   "language": "python",
   "name": "python3"
  },
  "language_info": {
   "codemirror_mode": {
    "name": "ipython",
    "version": 3
   },
   "file_extension": ".py",
   "mimetype": "text/x-python",
   "name": "python",
   "nbconvert_exporter": "python",
   "pygments_lexer": "ipython3",
   "version": "3.9.12"
  }
 },
 "nbformat": 4,
 "nbformat_minor": 5
}
